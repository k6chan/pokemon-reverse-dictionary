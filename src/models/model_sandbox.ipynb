{
 "cells": [
  {
   "cell_type": "code",
   "execution_count": 29,
   "id": "4b78d6b5",
   "metadata": {},
   "outputs": [],
   "source": [
    "import pandas as pd\n",
    "import sklearn.feature_extraction as fe\n",
    "from sklearn.metrics.pairwise import cosine_similarity"
   ]
  },
  {
   "cell_type": "code",
   "execution_count": 23,
   "id": "0f1b6055",
   "metadata": {},
   "outputs": [
    {
     "data": {
      "text/html": [
       "<div>\n",
       "<style scoped>\n",
       "    .dataframe tbody tr th:only-of-type {\n",
       "        vertical-align: middle;\n",
       "    }\n",
       "\n",
       "    .dataframe tbody tr th {\n",
       "        vertical-align: top;\n",
       "    }\n",
       "\n",
       "    .dataframe thead th {\n",
       "        text-align: right;\n",
       "    }\n",
       "</style>\n",
       "<table border=\"1\" class=\"dataframe\">\n",
       "  <thead>\n",
       "    <tr style=\"text-align: right;\">\n",
       "      <th></th>\n",
       "      <th>ndex</th>\n",
       "      <th>thumbnail</th>\n",
       "      <th>description</th>\n",
       "    </tr>\n",
       "    <tr>\n",
       "      <th>name</th>\n",
       "      <th></th>\n",
       "      <th></th>\n",
       "      <th></th>\n",
       "    </tr>\n",
       "  </thead>\n",
       "  <tbody>\n",
       "    <tr>\n",
       "      <th>Bulbasaur</th>\n",
       "      <td>1</td>\n",
       "      <td>https://archives.bulbagarden.net/media/upload/...</td>\n",
       "      <td>weak weak frail frail slow light short Chlorop...</td>\n",
       "    </tr>\n",
       "    <tr>\n",
       "      <th>Ivysaur</th>\n",
       "      <td>2</td>\n",
       "      <td>https://archives.bulbagarden.net/media/upload/...</td>\n",
       "      <td>weak weak frail frail slow light short Chlorop...</td>\n",
       "    </tr>\n",
       "    <tr>\n",
       "      <th>Venusaur</th>\n",
       "      <td>3</td>\n",
       "      <td>https://archives.bulbagarden.net/media/upload/...</td>\n",
       "      <td>weak weak frail frail slow light short Chlorop...</td>\n",
       "    </tr>\n",
       "    <tr>\n",
       "      <th>Charmander</th>\n",
       "      <td>4</td>\n",
       "      <td>https://archives.bulbagarden.net/media/upload/...</td>\n",
       "      <td>weak weak frail frail slow light short Blaze S...</td>\n",
       "    </tr>\n",
       "    <tr>\n",
       "      <th>Charmeleon</th>\n",
       "      <td>5</td>\n",
       "      <td>https://archives.bulbagarden.net/media/upload/...</td>\n",
       "      <td>weak weak frail frail slow light short Blaze S...</td>\n",
       "    </tr>\n",
       "  </tbody>\n",
       "</table>\n",
       "</div>"
      ],
      "text/plain": [
       "            ndex                                          thumbnail  \\\n",
       "name                                                                  \n",
       "Bulbasaur      1  https://archives.bulbagarden.net/media/upload/...   \n",
       "Ivysaur        2  https://archives.bulbagarden.net/media/upload/...   \n",
       "Venusaur       3  https://archives.bulbagarden.net/media/upload/...   \n",
       "Charmander     4  https://archives.bulbagarden.net/media/upload/...   \n",
       "Charmeleon     5  https://archives.bulbagarden.net/media/upload/...   \n",
       "\n",
       "                                                  description  \n",
       "name                                                           \n",
       "Bulbasaur   weak weak frail frail slow light short Chlorop...  \n",
       "Ivysaur     weak weak frail frail slow light short Chlorop...  \n",
       "Venusaur    weak weak frail frail slow light short Chlorop...  \n",
       "Charmander  weak weak frail frail slow light short Blaze S...  \n",
       "Charmeleon  weak weak frail frail slow light short Blaze S...  "
      ]
     },
     "execution_count": 23,
     "metadata": {},
     "output_type": "execute_result"
    }
   ],
   "source": [
    "df = pd.read_csv(\"data/bulbapedia_smogon_data.csv\").set_index(\"name\")\n",
    "df.head()"
   ]
  },
  {
   "cell_type": "code",
   "execution_count": 13,
   "id": "d2817ccc",
   "metadata": {},
   "outputs": [],
   "source": [
    "model = fe.text.TfidfVectorizer(input=\"content\")\n",
    "vector = model.fit_transform(df[\"description\"])\n",
    "\n",
    "def ir_tf_idf(query):\n",
    "    res = model.transform([query])\n",
    "    similarities = cosine_similarity(vector,res)\n",
    "    df.assign(sim=similarities.reshape(-1)).sort_values(by=\"sim\",ascending=False)\n",
    "    return df[:5]"
   ]
  },
  {
   "cell_type": "code",
   "execution_count": null,
   "id": "3d09e71e",
   "metadata": {},
   "outputs": [],
   "source": []
  },
  {
   "cell_type": "code",
   "execution_count": 30,
   "id": "9c73f910",
   "metadata": {},
   "outputs": [],
   "source": [
    "# res = model.transform([query])\n",
    "# similarities = cosine_similarity(vector,res)"
   ]
  },
  {
   "cell_type": "code",
   "execution_count": 45,
   "id": "f9c41001",
   "metadata": {},
   "outputs": [
    {
     "data": {
      "text/plain": [
       "Index(['Magmortar', 'Cyndaquil', 'Quilava', 'Volcanion', 'Flareon'], dtype='object', name='name')"
      ]
     },
     "execution_count": 45,
     "metadata": {},
     "output_type": "execute_result"
    }
   ],
   "source": [
    "# matches = df.assign(sim=similarities.reshape(-1)).sort_values(by=\"sim\",ascending=False)[:5]\n",
    "# matches.index"
   ]
  },
  {
   "cell_type": "code",
   "execution_count": null,
   "id": "0003b2d8",
   "metadata": {},
   "outputs": [],
   "source": []
  }
 ],
 "metadata": {
  "kernelspec": {
   "display_name": "Python 3 (ipykernel)",
   "language": "python",
   "name": "python3"
  },
  "language_info": {
   "codemirror_mode": {
    "name": "ipython",
    "version": 3
   },
   "file_extension": ".py",
   "mimetype": "text/x-python",
   "name": "python",
   "nbconvert_exporter": "python",
   "pygments_lexer": "ipython3",
   "version": "3.11.0"
  }
 },
 "nbformat": 4,
 "nbformat_minor": 5
}
