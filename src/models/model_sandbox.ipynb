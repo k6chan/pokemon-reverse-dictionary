{
 "cells": [
  {
   "cell_type": "code",
   "execution_count": 64,
   "id": "4b78d6b5",
   "metadata": {},
   "outputs": [],
   "source": [
    "import pandas as pd\n",
    "import sklearn.feature_extraction as fe\n",
    "from sklearn.metrics.pairwise import cosine_similarity\n",
    "\n",
    "from gensim.test.utils import common_texts\n",
    "from gensim.models import Word2Vec"
   ]
  },
  {
   "cell_type": "code",
   "execution_count": 7,
   "id": "0f1b6055",
   "metadata": {},
   "outputs": [
    {
     "data": {
      "text/html": [
       "<div>\n",
       "<style scoped>\n",
       "    .dataframe tbody tr th:only-of-type {\n",
       "        vertical-align: middle;\n",
       "    }\n",
       "\n",
       "    .dataframe tbody tr th {\n",
       "        vertical-align: top;\n",
       "    }\n",
       "\n",
       "    .dataframe thead th {\n",
       "        text-align: right;\n",
       "    }\n",
       "</style>\n",
       "<table border=\"1\" class=\"dataframe\">\n",
       "  <thead>\n",
       "    <tr style=\"text-align: right;\">\n",
       "      <th></th>\n",
       "      <th>ndex</th>\n",
       "      <th>thumbnail</th>\n",
       "      <th>name</th>\n",
       "      <th>description</th>\n",
       "    </tr>\n",
       "  </thead>\n",
       "  <tbody>\n",
       "    <tr>\n",
       "      <th>0</th>\n",
       "      <td>1</td>\n",
       "      <td>https://archives.bulbagarden.net/media/upload/...</td>\n",
       "      <td>Bulbasaur</td>\n",
       "      <td>weak weak frail frail slow light short Chlorop...</td>\n",
       "    </tr>\n",
       "    <tr>\n",
       "      <th>1</th>\n",
       "      <td>2</td>\n",
       "      <td>https://archives.bulbagarden.net/media/upload/...</td>\n",
       "      <td>Ivysaur</td>\n",
       "      <td>weak weak frail frail slow light short Chlorop...</td>\n",
       "    </tr>\n",
       "    <tr>\n",
       "      <th>2</th>\n",
       "      <td>3</td>\n",
       "      <td>https://archives.bulbagarden.net/media/upload/...</td>\n",
       "      <td>Venusaur</td>\n",
       "      <td>weak weak frail frail slow light short Chlorop...</td>\n",
       "    </tr>\n",
       "    <tr>\n",
       "      <th>3</th>\n",
       "      <td>4</td>\n",
       "      <td>https://archives.bulbagarden.net/media/upload/...</td>\n",
       "      <td>Charmander</td>\n",
       "      <td>weak weak frail frail slow light short Blaze S...</td>\n",
       "    </tr>\n",
       "    <tr>\n",
       "      <th>4</th>\n",
       "      <td>5</td>\n",
       "      <td>https://archives.bulbagarden.net/media/upload/...</td>\n",
       "      <td>Charmeleon</td>\n",
       "      <td>weak weak frail frail slow light short Blaze S...</td>\n",
       "    </tr>\n",
       "  </tbody>\n",
       "</table>\n",
       "</div>"
      ],
      "text/plain": [
       "   ndex                                          thumbnail        name  \\\n",
       "0     1  https://archives.bulbagarden.net/media/upload/...   Bulbasaur   \n",
       "1     2  https://archives.bulbagarden.net/media/upload/...     Ivysaur   \n",
       "2     3  https://archives.bulbagarden.net/media/upload/...    Venusaur   \n",
       "3     4  https://archives.bulbagarden.net/media/upload/...  Charmander   \n",
       "4     5  https://archives.bulbagarden.net/media/upload/...  Charmeleon   \n",
       "\n",
       "                                         description  \n",
       "0  weak weak frail frail slow light short Chlorop...  \n",
       "1  weak weak frail frail slow light short Chlorop...  \n",
       "2  weak weak frail frail slow light short Chlorop...  \n",
       "3  weak weak frail frail slow light short Blaze S...  \n",
       "4  weak weak frail frail slow light short Blaze S...  "
      ]
     },
     "execution_count": 7,
     "metadata": {},
     "output_type": "execute_result"
    }
   ],
   "source": [
    "df = pd.read_csv(\"data/bulbapedia_smogon_data.csv\")#.set_index(\"name\")\n",
    "df.head()"
   ]
  },
  {
   "cell_type": "code",
   "execution_count": 143,
   "id": "ef462270",
   "metadata": {},
   "outputs": [],
   "source": [
    "model = fe.text.TfidfVectorizer(input=\"content\")\n",
    "vector = model.fit_transform(df[\"description\"])\n",
    "\n",
    "def ir_tf_idf(query):\n",
    "    res = model.transform([query])\n",
    "    similarities = cosine_similarity(vector,res)\n",
    "    return df.assign(sim=similarities.reshape(-1)).sort_values(by=\"sim\",ascending=False)[:5]"
   ]
  },
  {
   "cell_type": "markdown",
   "id": "ab3fd809",
   "metadata": {},
   "source": [
    "----"
   ]
  },
  {
   "cell_type": "code",
   "execution_count": 144,
   "id": "867472a8",
   "metadata": {},
   "outputs": [],
   "source": [
    "import gensim.downloader\n",
    "wiki_vectors = gensim.downloader.load('glove-wiki-gigaword-50')"
   ]
  },
  {
   "cell_type": "code",
   "execution_count": 145,
   "id": "63628b8e",
   "metadata": {},
   "outputs": [],
   "source": [
    "# w2v_model = Word2Vec(sentences=common_texts, sg=1, min_count=1)\n",
    "# w2v_model = Word2Vec(sentences=data_tokens, sg=1, min_count=1)\n",
    "# data_tokens = []\n",
    "# for row in df.iterrows():\n",
    "#     data_tokens = data_tokens + (row[1][\"description\"].split())\n",
    "# df_by_name = df.set_index(\"name\")\n",
    "\n",
    "def w2v_tf_idf(query):\n",
    "     # assume data is stemmed and removed of stopwords\n",
    "    sims = []\n",
    "    large_query = query\n",
    "#     for pokemon in df_by_name.index:\n",
    "#         cosine_sim = wiki_vectors.n_similarity(query_tokens,df_by_name.loc[pokemon][\"description\"].split())\n",
    "#         sims.append((cosine_sim,pokemon))\n",
    "#     return sorted(sims, key=lambda item: item[0], reverse=True)[:5]\n",
    "    for token in query.split():\n",
    "        #### STEM WORDS HERE! ###\n",
    "        additional_words = list(map(lambda item: item[0], wiki_vectors.most_similar(token)))\n",
    "        large_query = large_query + \" \" + \" \".join(additional_words)\n",
    "    return ir_tf_idf(large_query)"
   ]
  },
  {
   "cell_type": "code",
   "execution_count": 146,
   "id": "4b2a8201",
   "metadata": {},
   "outputs": [
    {
     "name": "stdout",
     "output_type": "stream",
     "text": [
      "fire ground attack firing fires fired explosion blast inside carried gunfire\n"
     ]
    },
    {
     "data": {
      "text/html": [
       "<div>\n",
       "<style scoped>\n",
       "    .dataframe tbody tr th:only-of-type {\n",
       "        vertical-align: middle;\n",
       "    }\n",
       "\n",
       "    .dataframe tbody tr th {\n",
       "        vertical-align: top;\n",
       "    }\n",
       "\n",
       "    .dataframe thead th {\n",
       "        text-align: right;\n",
       "    }\n",
       "</style>\n",
       "<table border=\"1\" class=\"dataframe\">\n",
       "  <thead>\n",
       "    <tr style=\"text-align: right;\">\n",
       "      <th></th>\n",
       "      <th>ndex</th>\n",
       "      <th>thumbnail</th>\n",
       "      <th>name</th>\n",
       "      <th>description</th>\n",
       "      <th>sim</th>\n",
       "    </tr>\n",
       "  </thead>\n",
       "  <tbody>\n",
       "    <tr>\n",
       "      <th>694</th>\n",
       "      <td>636</td>\n",
       "      <td>https://archives.bulbagarden.net/media/upload/...</td>\n",
       "      <td>Larvesta</td>\n",
       "      <td>weak weak frail frail slow light short Flame B...</td>\n",
       "      <td>0.154748</td>\n",
       "    </tr>\n",
       "    <tr>\n",
       "      <th>183</th>\n",
       "      <td>155</td>\n",
       "      <td>https://archives.bulbagarden.net/media/upload/...</td>\n",
       "      <td>Cyndaquil</td>\n",
       "      <td>weak weak frail frail slow light short Blaze F...</td>\n",
       "      <td>0.113913</td>\n",
       "    </tr>\n",
       "    <tr>\n",
       "      <th>184</th>\n",
       "      <td>156</td>\n",
       "      <td>https://archives.bulbagarden.net/media/upload/...</td>\n",
       "      <td>Quilava</td>\n",
       "      <td>weak weak frail frail slow light short Blaze F...</td>\n",
       "      <td>0.103753</td>\n",
       "    </tr>\n",
       "    <tr>\n",
       "      <th>883</th>\n",
       "      <td>776</td>\n",
       "      <td>https://archives.bulbagarden.net/media/upload/...</td>\n",
       "      <td>Turtonator</td>\n",
       "      <td>weak weak bulky frail slow light short Shell A...</td>\n",
       "      <td>0.103157</td>\n",
       "    </tr>\n",
       "    <tr>\n",
       "      <th>720</th>\n",
       "      <td>652</td>\n",
       "      <td>https://archives.bulbagarden.net/media/upload/...</td>\n",
       "      <td>Chesnaught</td>\n",
       "      <td>strong weak bulky frail slow light short Bulle...</td>\n",
       "      <td>0.102315</td>\n",
       "    </tr>\n",
       "  </tbody>\n",
       "</table>\n",
       "</div>"
      ],
      "text/plain": [
       "     ndex                                          thumbnail        name  \\\n",
       "694   636  https://archives.bulbagarden.net/media/upload/...    Larvesta   \n",
       "183   155  https://archives.bulbagarden.net/media/upload/...   Cyndaquil   \n",
       "184   156  https://archives.bulbagarden.net/media/upload/...     Quilava   \n",
       "883   776  https://archives.bulbagarden.net/media/upload/...  Turtonator   \n",
       "720   652  https://archives.bulbagarden.net/media/upload/...  Chesnaught   \n",
       "\n",
       "                                           description       sim  \n",
       "694  weak weak frail frail slow light short Flame B...  0.154748  \n",
       "183  weak weak frail frail slow light short Blaze F...  0.113913  \n",
       "184  weak weak frail frail slow light short Blaze F...  0.103753  \n",
       "883  weak weak bulky frail slow light short Shell A...  0.103157  \n",
       "720  strong weak bulky frail slow light short Bulle...  0.102315  "
      ]
     },
     "execution_count": 146,
     "metadata": {},
     "output_type": "execute_result"
    }
   ],
   "source": [
    "w2v_tf_idf(\"fire\")"
   ]
  },
  {
   "cell_type": "code",
   "execution_count": 101,
   "id": "ea445a19",
   "metadata": {},
   "outputs": [
    {
     "data": {
      "text/plain": [
       "'weak weak frail frail slow light short Rain Dish Torrent Water Wartortle 8.0 Blastoise shownthat ears anime toes eyes symbol colonies fingers habitat algae land indigoreptilianPokémonsimilar scars body islands head yellow rudders move prey cheek bottom teeth longevity time balance fur shell streak itssignature water tail aturtle luck diving signature jaw Air turtle age ponds lakes side freshwater halves underside speeds rods'"
      ]
     },
     "execution_count": 101,
     "metadata": {},
     "output_type": "execute_result"
    }
   ],
   "source": [
    "df_by_name.loc[\"Wartortle\"][\"description\"]"
   ]
  },
  {
   "cell_type": "code",
   "execution_count": 128,
   "id": "1cc3caa1",
   "metadata": {},
   "outputs": [
    {
     "data": {
      "text/plain": [
       "['dry',\n",
       " 'natural',\n",
       " 'sand',\n",
       " 'waste',\n",
       " 'drinking',\n",
       " 'clean',\n",
       " 'ocean',\n",
       " 'soil',\n",
       " 'sewage',\n",
       " 'seawater']"
      ]
     },
     "execution_count": 128,
     "metadata": {},
     "output_type": "execute_result"
    }
   ],
   "source": [
    "list(map(lambda item: item[0], wiki_vectors.most_similar([\"water\", \"tail\", \"luck\"])))"
   ]
  },
  {
   "cell_type": "code",
   "execution_count": 4,
   "id": "0d9e7aec",
   "metadata": {},
   "outputs": [],
   "source": [
    "# res = model.transform([query])\n",
    "# similarities = cosine_similarity(vector,res)"
   ]
  },
  {
   "cell_type": "code",
   "execution_count": 5,
   "id": "f9c41001",
   "metadata": {},
   "outputs": [],
   "source": [
    "# matches = df.assign(sim=similarities.reshape(-1)).sort_values(by=\"sim\",ascending=False)[:5]\n",
    "# matches.index"
   ]
  },
  {
   "cell_type": "code",
   "execution_count": 97,
   "id": "2c085bb5",
   "metadata": {},
   "outputs": [
    {
     "data": {
      "text/plain": [
       "['weak',\n",
       " 'weak',\n",
       " 'frail',\n",
       " 'frail',\n",
       " 'slow',\n",
       " 'light',\n",
       " 'short',\n",
       " 'Chlorophyll',\n",
       " 'Overgrow',\n",
       " 'Grass',\n",
       " 'Poison',\n",
       " 'Bulbasaur',\n",
       " '1.0',\n",
       " 'Ivysaur',\n",
       " 'skin',\n",
       " 'legs',\n",
       " 'instinct',\n",
       " 'anime',\n",
       " 'ingrasslandsand',\n",
       " 'eyes',\n",
       " 'garden',\n",
       " 'photosynthesis',\n",
       " 'region',\n",
       " 'structures',\n",
       " 'ownership',\n",
       " 'head',\n",
       " 'year',\n",
       " 'amphibian',\n",
       " 'by',\n",
       " 'Bulbasaur',\n",
       " 'forests',\n",
       " 'patches',\n",
       " 'tentacle',\n",
       " 'claws',\n",
       " 'pupils',\n",
       " 'ear',\n",
       " 'seeds',\n",
       " 'wild',\n",
       " 'back',\n",
       " 'animehave',\n",
       " 'vines',\n",
       " 'bulb',\n",
       " 'ceremony',\n",
       " 'teeth',\n",
       " 'plant',\n",
       " 'status',\n",
       " 'seed',\n",
       " 'grasslands',\n",
       " 'abandonment',\n",
       " 'theKantoregion',\n",
       " 'snout',\n",
       " 'mouth',\n",
       " 'energy',\n",
       " 'pair',\n",
       " 'jaw',\n",
       " 'air',\n",
       " 'term',\n",
       " 'individual',\n",
       " 'birth',\n",
       " 'transformation',\n",
       " 'top',\n",
       " 'gather']"
      ]
     },
     "execution_count": 97,
     "metadata": {},
     "output_type": "execute_result"
    }
   ],
   "source": [
    "df[\"description\"][0].split()"
   ]
  },
  {
   "cell_type": "code",
   "execution_count": null,
   "id": "07aba956",
   "metadata": {},
   "outputs": [],
   "source": []
  }
 ],
 "metadata": {
  "kernelspec": {
   "display_name": "Python 3 (ipykernel)",
   "language": "python",
   "name": "python3"
  },
  "language_info": {
   "codemirror_mode": {
    "name": "ipython",
    "version": 3
   },
   "file_extension": ".py",
   "mimetype": "text/x-python",
   "name": "python",
   "nbconvert_exporter": "python",
   "pygments_lexer": "ipython3",
   "version": "3.11.0"
  }
 },
 "nbformat": 4,
 "nbformat_minor": 5
}
